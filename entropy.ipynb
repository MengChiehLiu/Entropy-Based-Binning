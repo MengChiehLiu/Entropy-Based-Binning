{
  "nbformat": 4,
  "nbformat_minor": 0,
  "metadata": {
    "colab": {
      "name": "entropy.ipynb",
      "provenance": [],
      "collapsed_sections": [],
      "authorship_tag": "ABX9TyPoQ5Uw4SqG52qkTsjV2Gzp",
      "include_colab_link": true
    },
    "kernelspec": {
      "name": "python3",
      "display_name": "Python 3"
    },
    "language_info": {
      "name": "python"
    }
  },
  "cells": [
    {
      "cell_type": "markdown",
      "metadata": {
        "id": "view-in-github",
        "colab_type": "text"
      },
      "source": [
        "<a href=\"https://colab.research.google.com/github/MengChiehLiu/Entropy-Based-Binning/blob/main/entropy.ipynb\" target=\"_parent\"><img src=\"https://colab.research.google.com/assets/colab-badge.svg\" alt=\"Open In Colab\"/></a>"
      ]
    },
    {
      "cell_type": "code",
      "source": [
        "\"\"\"\n",
        "Entropy Based Binning Alogorithm\n",
        "Author: Meng-Chieh, Liu\n",
        "DateTime: 2022/3/23 13:21\n",
        "\"\"\""
      ],
      "metadata": {
        "colab": {
          "base_uri": "https://localhost:8080/",
          "height": 35
        },
        "id": "yw6gtN3sNxl_",
        "outputId": "0ec192fd-b13a-47aa-ea98-07b4e29cdcff"
      },
      "execution_count": null,
      "outputs": [
        {
          "output_type": "execute_result",
          "data": {
            "text/plain": [
              "'\\nEntropy Based Binning Alogorithm\\nAuthor: Meng-Chieh, Liu\\nDateTime: 2022/3/23 13:21\\n'"
            ],
            "application/vnd.google.colaboratory.intrinsic+json": {
              "type": "string"
            }
          },
          "metadata": {},
          "execution_count": 3
        }
      ]
    },
    {
      "cell_type": "code",
      "execution_count": null,
      "metadata": {
        "id": "haFeRwW4BESR"
      },
      "outputs": [],
      "source": [
        "from scipy.stats import entropy\n",
        "import pandas as pd\n",
        "import matplotlib.pyplot as plt"
      ]
    },
    {
      "cell_type": "code",
      "source": [
        "class Node:\n",
        "    def __init__(self, data):\n",
        "        self.data = data\n",
        "        self.left = None\n",
        "        self.right = None"
      ],
      "metadata": {
        "id": "ws3WelcVB_Yd"
      },
      "execution_count": null,
      "outputs": []
    },
    {
      "cell_type": "code",
      "source": [
        "class binary_tree:\n",
        "    def __init__(self):\n",
        "        self.root = None\n",
        "\n",
        "    def insert(self, data):\n",
        "        #判斷tree是否為空\n",
        "        if self.root == None:\n",
        "            self.root = Node(data)\n",
        "        else:\n",
        "            self._insert(data, self.root)\n",
        "    \n",
        "    def _insert(self, data, cur_node):\n",
        "        if data[0][0]+data[-1][0] < cur_node.data[0][0]+cur_node.data[-1][0]:\n",
        "            if cur_node.left == None:\n",
        "                cur_node.left = Node(data)\n",
        "            else:\n",
        "                self._insert(data, cur_node.left)\n",
        "        elif data[0][0]+data[-1][0] > cur_node.data[0][0]+cur_node.data[-1][0]:\n",
        "            if cur_node.right == None:\n",
        "                cur_node.right = Node(data)\n",
        "            else:\n",
        "                self._insert(data, cur_node.right)"
      ],
      "metadata": {
        "id": "RMCiYknEHxB1"
      },
      "execution_count": null,
      "outputs": []
    },
    {
      "cell_type": "code",
      "source": [
        "# Function to get leafnodes from left to right\n",
        "def getLeafNodes(root, LeafNodes):\n",
        "\n",
        "    # If node is null, return\n",
        "    if (not root):\n",
        "        return\n",
        "\n",
        "    # If node is leaf node, print its data\n",
        "    if root.left==None and root.right==None:\n",
        "        LeafNodes.append(root.data)\n",
        "        # print(root.data)\n",
        "\n",
        "    # If left child exists, check for leaf recursively\n",
        "    if root.left:\n",
        "        getLeafNodes(root.left,LeafNodes)\n",
        " \n",
        "    # If right child exists, check for leaf recursively\n",
        "    if root.right:\n",
        "        getLeafNodes(root.right,LeafNodes)"
      ],
      "metadata": {
        "id": "E8AC7vhADs72"
      },
      "execution_count": null,
      "outputs": []
    },
    {
      "cell_type": "code",
      "source": [
        "# Function to insert children intp leaf\n",
        "def insertLeafNodes(root, left_child, right_child):\n",
        "\n",
        "    # If node is null, return\n",
        "    if (not root):\n",
        "        return\n",
        "\n",
        "    # If node is leaf node, print its data\n",
        "    if root.data[0][0] == left_child[0][0] and root.data[-1][0] == right_child[-1][0]:\n",
        "        root.left = Node(left_child)\n",
        "        root.right = Node(right_child)\n",
        "        return\n",
        "\n",
        "    # If left child exists, check for leaf recursively\n",
        "    if root.left:\n",
        "        insertLeafNodes(root.left, left_child, right_child)\n",
        " \n",
        "    # If right child exists, check for leaf recursively\n",
        "    if root.right:\n",
        "        insertLeafNodes(root.right, left_child, right_child)"
      ],
      "metadata": {
        "id": "WDkb4dEQmN_f"
      },
      "execution_count": null,
      "outputs": []
    },
    {
      "cell_type": "code",
      "source": [
        "# print result\n",
        "def print_result(LeafNodes):\n",
        "    for leaf in LeafNodes:\n",
        "        start = leaf[0][0]\n",
        "        end = leaf[-1][0]\n",
        "        print(\"{}~{}\".format(start,end), end=\", \")\n",
        "    print(\"\")"
      ],
      "metadata": {
        "id": "tUoguAjPBHmZ"
      },
      "execution_count": null,
      "outputs": []
    },
    {
      "cell_type": "code",
      "source": [
        "# get bin dict\n",
        "def get_bin(LeafNodes):\n",
        "    bin_dict = {}\n",
        "    for leaf in LeafNodes:\n",
        "        start = leaf[0][0]\n",
        "        end = leaf[-1][0]\n",
        "        bin = (\"{}~{}\".format(start,end))\n",
        "        bin_dict[bin] = [start,end]\n",
        "    return bin_dict"
      ],
      "metadata": {
        "id": "g03x_AGa2ekQ"
      },
      "execution_count": null,
      "outputs": []
    },
    {
      "cell_type": "code",
      "source": [
        "# calculate probability\n",
        "def cal_prob(a_list):\n",
        "    a_len = len(a_list)\n",
        "    a_sum = 0\n",
        "    for i in a_list:\n",
        "        a_sum += i[1]\n",
        "    a_p1 = a_sum/a_len\n",
        "    a_p0 = 1-a_p1\n",
        "    return a_len, a_p1, a_p0"
      ],
      "metadata": {
        "id": "doAfYOn7HvKP"
      },
      "execution_count": null,
      "outputs": []
    },
    {
      "cell_type": "code",
      "source": [
        "def map_func(x,bin_dict):\n",
        "  for key in bin_dict:\n",
        "    if x >= bin_dict[key][0] and x <= bin_dict[key][1]:\n",
        "      return key"
      ],
      "metadata": {
        "id": "gK_k0kvHBO3E"
      },
      "execution_count": null,
      "outputs": []
    },
    {
      "cell_type": "code",
      "source": [
        "def cal_entropy(df,variable):\n",
        "  \n",
        "    df1 = df.sort_values(variable)\n",
        "    # print(df.head())\n",
        "    independent_list = df1[variable].tolist()\n",
        "    # print(independent_list)\n",
        "    response_list = df1[\"output\"].tolist()\n",
        "    # print(response_list)\n",
        "\n",
        "    total_len = len(independent_list)\n",
        "    # print(total_len)\n",
        "    pair = []\n",
        "    for i in range(total_len):\n",
        "        pair.append([independent_list[i],response_list[i]])\n",
        "    # print(pair)\n",
        "\n",
        "    tree = binary_tree()\n",
        "    tree.insert(pair)\n",
        "    # print(tree.root.data)\n",
        "\n",
        "    p1 = sum(response_list)/total_len\n",
        "    p0 = 1-p1\n",
        "    original_entropy = entropy([p1,p0], base=2)\n",
        "    entropy_list = [original_entropy]\n",
        "    # print(original_entropy)\n",
        "\n",
        "    LeafNodes = [pair]\n",
        "    # print(LeafNodes)\n",
        "\n",
        "    k = 1\n",
        "    while True:\n",
        "        information_gained = 0\n",
        "\n",
        "        for leaf in LeafNodes:\n",
        "            inside_information_gained = 0\n",
        "\n",
        "            if len(leaf) == 1:\n",
        "              continue\n",
        "\n",
        "            # get inside breakpoints\n",
        "            breakpoints = []\n",
        "            for i in range(len(leaf)-1):\n",
        "                if leaf[i][0] != leaf[i+1][0]:\n",
        "                    breakpoints.append(i+1)\n",
        "            # print(breakpoints)\n",
        "\n",
        "            if breakpoints == []:\n",
        "              continue\n",
        "\n",
        "            # initialize information gained\n",
        "            \n",
        "            total_len_0, p1, p0 =cal_prob(leaf)\n",
        "            # print(total_len_0, p1, p0)\n",
        "            inside_entropy = total_len_0/total_len*entropy([p1,p0], base=2)\n",
        "            # print(inside_entropy)\n",
        "\n",
        "            for breakpoint in breakpoints:\n",
        "                leaf_1 = leaf[:breakpoint]\n",
        "                # print(leaf_1)\n",
        "                leaf_2 = leaf[breakpoint:]\n",
        "                # print(leaf_2)\n",
        "                total_len_1, p1_1, p1_0 = cal_prob(leaf_1)\n",
        "                # print(total_len_1, p1_1, p1_0)\n",
        "                total_len_2, p2_1, p2_0 = cal_prob(leaf_2)\n",
        "                # print(total_len_2, p2_1, p2_0)\n",
        "                inside_new_entropy = total_len_1/total_len*entropy([p1_1,p1_0],base=2) + total_len_2/total_len*entropy([p2_1,p2_0],base=2)\n",
        "                # print(inside_new_entropy)\n",
        "                inside_information_gained = inside_entropy - inside_new_entropy\n",
        "                # print(inside_information_gained)\n",
        "                if inside_information_gained > information_gained:\n",
        "                    information_gained = inside_information_gained\n",
        "                    # print(information_gained)\n",
        "                    temp_leaf_1 = leaf_1\n",
        "                    # print(temp_leaf_1)\n",
        "                    temp_leaf_2 = leaf_2\n",
        "                    # print(temp_leaf_2)\n",
        "        \n",
        "        # run to the end\n",
        "        if information_gained == 0:\n",
        "          break\n",
        "\n",
        "        #threshold: information_gained\n",
        "        # if information_gained < 0.01:\n",
        "        #   break\n",
        " \n",
        "\n",
        "        insertLeafNodes(root=tree.root, left_child=temp_leaf_1, right_child=temp_leaf_2)\n",
        "        original_entropy -= information_gained\n",
        "        # print(original_entropy)\n",
        "        entropy_list.append(original_entropy)\n",
        "        # print(entropy_list)\n",
        "        LeafNodes=[]\n",
        "        getLeafNodes(tree.root,LeafNodes)\n",
        "        # print(LeafNodes)\n",
        "        # print(\"finish round\", k, end =\" : \")\n",
        "        # print_result(LeafNodes)\n",
        "        k += 1\n",
        "\n",
        "        #threshold: run times\n",
        "        if k == 4:\n",
        "          part_LeafNodes = LeafNodes.copy()\n",
        "          part_entropy_list = entropy_list.copy()\n",
        "          # break \n",
        "\n",
        "\n",
        "    # print(entropy_list)\n",
        "    return part_LeafNodes, part_entropy_list, LeafNodes, entropy_list"
      ],
      "metadata": {
        "id": "--NArSHlBW5s"
      },
      "execution_count": null,
      "outputs": []
    },
    {
      "cell_type": "code",
      "source": [
        "heart = pd.read_csv(\"sample_data/heart.csv\")\n",
        "print(heart.head())"
      ],
      "metadata": {
        "colab": {
          "base_uri": "https://localhost:8080/"
        },
        "id": "xLsUAzN8coUz",
        "outputId": "e77abff6-b146-4a7c-c149-5cb21308d876"
      },
      "execution_count": null,
      "outputs": [
        {
          "output_type": "stream",
          "name": "stdout",
          "text": [
            "   age  sex  cp  trtbps  chol  fbs  restecg  thalachh  exng  oldpeak  slp  \\\n",
            "0   63    1   3     145   233    1        0       150     0      2.3    0   \n",
            "1   37    1   2     130   250    0        1       187     0      3.5    0   \n",
            "2   41    0   1     130   204    0        0       172     0      1.4    2   \n",
            "3   56    1   1     120   236    0        1       178     0      0.8    2   \n",
            "4   57    0   0     120   354    0        1       163     1      0.6    2   \n",
            "\n",
            "   caa  thall  output  \n",
            "0    0      1       1  \n",
            "1    0      2       1  \n",
            "2    0      2       1  \n",
            "3    0      2       1  \n",
            "4    0      2       1  \n"
          ]
        }
      ]
    },
    {
      "cell_type": "code",
      "source": [
        "heart = pd.read_csv(\"sample_data/heart.csv\")\n",
        "for variable in [\"age\",\"trtbps\",\"chol\",\"thalachh\",\"oldpeak\"]:\n",
        "  print(\"variable:\", variable)\n",
        "  part_LeafNodes, part_entropy_list, LeafNodes, entropy_list = cal_entropy(heart,variable)\n",
        "\n",
        "  print(\"bins result: \",end=\"\")\n",
        "  print_result(part_LeafNodes)\n",
        "  print(\"reduction each round: \",end=\"\")\n",
        "  reduction_list = []\n",
        "  for i in range(len(part_entropy_list)-1):\n",
        "    reduction = part_entropy_list[i]-part_entropy_list[i+1]\n",
        "    reduction_list.append(reduction)\n",
        "    print(reduction,end=\", \")\n",
        "  print(\"\")\n",
        "\n",
        "  plt.plot([x for x in range(len(entropy_list))], entropy_list)\n",
        "  plt.show()\n",
        "  print(\"\")\n",
        "\n",
        "  bin_dict = get_bin(part_LeafNodes)\n",
        "  # print(bin_dict)\n",
        "  heart[variable] = heart[variable].apply(map_func,args=(bin_dict,))\n",
        "\n",
        "heart.to_csv(\"sample_data/heart_entropy.csv\")"
      ],
      "metadata": {
        "colab": {
          "base_uri": "https://localhost:8080/",
          "height": 1000
        },
        "id": "J7hKCZf4jY9B",
        "outputId": "04eb4b32-eba0-42ad-d119-80f8ebb18b80"
      },
      "execution_count": null,
      "outputs": [
        {
          "output_type": "stream",
          "name": "stdout",
          "text": [
            "variable: age\n",
            "bins result: 29~54, 55~70, 71~76, 77~77, \n",
            "reduction each round: 0.06016652346703866, 0.011346074895568492, 0.012871731121749552, \n"
          ]
        },
        {
          "output_type": "display_data",
          "data": {
            "text/plain": [
              "<Figure size 432x288 with 1 Axes>"
            ],
            "image/png": "[encoded data removed]"
          },
          "metadata": {
            "needs_background": "light"
          }
        },
        {
          "output_type": "stream",
          "name": "stdout",
          "text": [
            "\n",
            "variable: trtbps\n",
            "bins result: 94~100, 101~106, 108~142, 144~200, \n",
            "reduction each round: 0.015513273285578721, 0.01202654357152122, 0.009153940250249626, \n"
          ]
        },
        {
          "output_type": "display_data",
          "data": {
            "text/plain": [
              "<Figure size 432x288 with 1 Axes>"
            ],
            "image/png": "[encoded data removed]"
          },
          "metadata": {
            "needs_background": "light"
          }
        },
        {
          "output_type": "stream",
          "name": "stdout",
          "text": [
            "\n",
            "variable: chol\n",
            "bins result: 126~244, 245~245, 246~409, 417~564, \n",
            "reduction each round: 0.017492526290564414, 0.007467277184691867, 0.007006984641160341, \n"
          ]
        },
        {
          "output_type": "display_data",
          "data": {
            "text/plain": [
              "<Figure size 432x288 with 1 Axes>"
            ],
            "image/png": "[encoded data removed]"
          },
          "metadata": {
            "needs_background": "light"
          }
        },
        {
          "output_type": "stream",
          "name": "stdout",
          "text": [
            "\n",
            "variable: thalachh\n",
            "bins result: 71~113, 114~147, 148~169, 170~202, \n",
            "reduction each round: 0.12965186453697608, 0.017678778871076828, 0.011612911599453768, \n"
          ]
        },
        {
          "output_type": "display_data",
          "data": {
            "text/plain": [
              "<Figure size 432x288 with 1 Axes>"
            ],
            "image/png": "[encoded data removed]"
          },
          "metadata": {
            "needs_background": "light"
          }
        },
        {
          "output_type": "stream",
          "name": "stdout",
          "text": [
            "\n",
            "variable: oldpeak\n",
            "bins result: 0.0~0.7, 0.8~1.6, 1.8~2.4, 2.5~6.2, \n",
            "reduction each round: 0.12396651297120331, 0.034483508900708726, 0.010917376341000984, \n"
          ]
        },
        {
          "output_type": "display_data",
          "data": {
            "text/plain": [
              "<Figure size 432x288 with 1 Axes>"
            ],
            "image/png": "[encoded data removed]"
          },
          "metadata": {
            "needs_background": "light"
          }
        },
        {
          "output_type": "stream",
          "name": "stdout",
          "text": [
            "\n"
          ]
        }
      ]
    },
    {
      "cell_type": "code",
      "source": [
        "heart_entropy = pd.read_csv(\"sample_data/heart_entropy.csv\",index_col=\"Unnamed: 0\")\n",
        "print(heart_entropy.head())"
      ],
      "metadata": {
        "colab": {
          "base_uri": "https://localhost:8080/"
        },
        "id": "iQBd89o4aovp",
        "outputId": "b8caced9-f74e-47c1-d580-071e9cd2f760"
      },
      "execution_count": null,
      "outputs": [
        {
          "output_type": "stream",
          "name": "stdout",
          "text": [
            "     age  sex  cp   trtbps     chol  fbs  restecg thalachh  exng  oldpeak  \\\n",
            "0  55~70    1   3  144~200  126~244    1        0  148~169     0  1.8~2.4   \n",
            "1  29~54    1   2  108~142  246~409    0        1  170~202     0  2.5~6.2   \n",
            "2  29~54    0   1  108~142  126~244    0        0  170~202     0  0.8~1.6   \n",
            "3  55~70    1   1  108~142  126~244    0        1  170~202     0  0.8~1.6   \n",
            "4  55~70    0   0  108~142  246~409    0        1  148~169     1  0.0~0.7   \n",
            "\n",
            "   slp  caa  thall  output  \n",
            "0    0    0      1       1  \n",
            "1    0    0      2       1  \n",
            "2    2    0      2       1  \n",
            "3    2    0      2       1  \n",
            "4    2    0      2       1  \n"
          ]
        }
      ]
    }
  ]
}